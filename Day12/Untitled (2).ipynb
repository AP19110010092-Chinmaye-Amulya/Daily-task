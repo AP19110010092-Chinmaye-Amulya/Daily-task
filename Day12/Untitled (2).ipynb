{
 "cells": [
  {
   "cell_type": "markdown",
   "metadata": {},
   "source": [
    "Day12 Task(18-06-2021)\n",
    "Tasks\n",
    "1. Write a program for getting the last five line from the file.\n",
    "2. Create a function for getting armstrong number in given range\n",
    "3. Create a function for getting prime numbers within a given range\n",
    "\n"
   ]
  },
  {
   "cell_type": "code",
   "execution_count": 9,
   "metadata": {},
   "outputs": [
    {
     "name": "stdout",
     "output_type": "stream",
     "text": [
      "['Fourth line \\n', 'Fifth line \\n', 'Sixth line \\n', 'Seventh line \\n', 'Eight line \\n']\n"
     ]
    }
   ],
   "source": [
    "# Program-1\n",
    "\n",
    "f=open(\"taskfile.txt\",\"w\")\n",
    "f.write(\"First line \\n\")\n",
    "f.write(\"Second line \\n\")\n",
    "f.write(\"Third line \\n\")\n",
    "f.write(\"Fourth line \\n\")\n",
    "f.write(\"Fifth line \\n\")\n",
    "f.write(\"Sixth line \\n\")\n",
    "f.write(\"Seventh line \\n\")\n",
    "f.write(\"Eight line \\n\")\n",
    "f.close()\n",
    "\n",
    "\n",
    "# Read last five lines in taskfile \n",
    "\n",
    "f1=open(\"taskfile.txt\",\"r\")\n",
    "list1=f1.readlines()\n",
    "print(list1[-5:])\n",
    "f1.close()\n"
   ]
  },
  {
   "cell_type": "code",
   "execution_count": 10,
   "metadata": {},
   "outputs": [],
   "source": [
    "# Program-2\n",
    "\n",
    "def write(file,string1):\n",
    "    with open(file,\"a\") as f:\n",
    "        f.write(string1)\n",
    "    return\n",
    "write(\"taskfile.txt\",\"Written through function in text file\")\n"
   ]
  },
  {
   "cell_type": "code",
   "execution_count": 11,
   "metadata": {},
   "outputs": [],
   "source": [
    "# Program-3\n",
    "\n",
    "def replace_name(file):\n",
    "    with open('taskfile.txt','r+') as f:\n",
    "        text = f.read()\n",
    "        text = re.sub('First', 'Last', text)\n",
    "        f.seek(0)\n",
    "        f.write(text)\n",
    "        f.truncate()\n",
    "    \n",
    "#reading the file\n",
    "f = replace_name(\"taskfile.txt\")\n"
   ]
  }
 ],
 "metadata": {
  "kernelspec": {
   "display_name": "Python 3",
   "language": "python",
   "name": "python3"
  },
  "language_info": {
   "codemirror_mode": {
    "name": "ipython",
    "version": 3
   },
   "file_extension": ".py",
   "mimetype": "text/x-python",
   "name": "python",
   "nbconvert_exporter": "python",
   "pygments_lexer": "ipython3",
   "version": "3.7.3"
  }
 },
 "nbformat": 4,
 "nbformat_minor": 2
}
