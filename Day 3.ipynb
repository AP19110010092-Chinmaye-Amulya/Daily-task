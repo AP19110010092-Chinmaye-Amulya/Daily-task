{
 "cells": [
  {
   "cell_type": "code",
   "execution_count": 1,
   "metadata": {},
   "outputs": [
    {
     "name": "stdout",
     "output_type": "stream",
     "text": [
      "please enter the rollno.AP19110010092\n",
      "Rollno. donot belong to SRM University\n"
     ]
    }
   ],
   "source": [
    "# write a progrm to print the department using the last 3 elements of the roll no.\n",
    "\n",
    "roll=input(\"please enter the rollno.\") # taking the roll no. input \n",
    "if roll[-3:].startswith('01'):\n",
    "    print(\"CSE department\")            # condition to check whether last 3 elements start with 01; CSE department.\n",
    "elif roll[-3:].startswith('11'):\n",
    "    print(\"ECE department\")           # condition to check whether last 3 elements start with 11; ECE department.\n",
    "elif roll[-3:].startswith('21'):\n",
    "    print(\"Mech department\")          # condition to check whether last 3 elements start with 21; Mech department\n",
    "else:\n",
    "    print('Rollno. donot belong to SRM University')   # If last 3 elements dont start with any of the prefix, then invalid rollno.\n"
   ]
  },
  {
   "cell_type": "code",
   "execution_count": 2,
   "metadata": {},
   "outputs": [
    {
     "name": "stdout",
     "output_type": "stream",
     "text": [
      "Enter the number7\n",
      "7 X 1 = 7\n",
      "7 X 2 = 14\n",
      "7 X 3 = 21\n",
      "7 X 4 = 28\n",
      "7 X 5 = 35\n",
      "7 X 6 = 42\n",
      "7 X 7 = 49\n",
      "7 X 8 = 56\n",
      "7 X 9 = 63\n",
      "7 X 10 = 70\n"
     ]
    }
   ],
   "source": [
    "# program to write the table for the number given by the user.\n",
    "n= int(input(\"Enter the number\"))\n",
    "for i in range(1,11):\n",
    "    print(n,\"X\",i,\"=\",n*(i))\n"
   ]
  },
  {
   "cell_type": "code",
   "execution_count": 3,
   "metadata": {},
   "outputs": [
    {
     "name": "stdout",
     "output_type": "stream",
     "text": [
      "1804\t1808\t1812\t1816\t1820\t1824\t1828\t1832\t1836\t1840\t1844\t1848\t1852\t1856\t1860\t1864\t1868\t1872\t1876\t1880\t1884\t1888\t1892\t1896\t1904\t1908\t1912\t1916\t1920\t1924\t1928\t1932\t1936\t1940\t1944\t1948\t1952\t1956\t1960\t1964\t1968\t1972\t1976\t1980\t1984\t1988\t1992\t1996\t2000\t2004\t2008\t2012\t2016\t2020\t"
     ]
    }
   ],
   "source": [
    "# Program 2\n",
    "\n",
    "for i in range(1800,2021):\n",
    "    if (i % 4 == 0 and i % 100 != 0) or (i % 400 == 0):\n",
    "        print(i, end = '\\t')"
   ]
  },
  {
   "cell_type": "code",
   "execution_count": null,
   "metadata": {},
   "outputs": [],
   "source": []
  }
 ],
 "metadata": {
  "kernelspec": {
   "display_name": "Python 3",
   "language": "python",
   "name": "python3"
  },
  "language_info": {
   "codemirror_mode": {
    "name": "ipython",
    "version": 3
   },
   "file_extension": ".py",
   "mimetype": "text/x-python",
   "name": "python",
   "nbconvert_exporter": "python",
   "pygments_lexer": "ipython3",
   "version": "3.7.3"
  }
 },
 "nbformat": 4,
 "nbformat_minor": 2
}
