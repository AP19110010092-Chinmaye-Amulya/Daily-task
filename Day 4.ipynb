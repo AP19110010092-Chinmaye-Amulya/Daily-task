{
 "cells": [
  {
   "cell_type": "code",
   "execution_count": 1,
   "metadata": {},
   "outputs": [
    {
     "name": "stdout",
     "output_type": "stream",
     "text": [
      "Enter Your String : Amulya\n",
      "Input string is of lenght 6\n",
      "The string is even\n",
      "Middle letters of the the String are u and l \n"
     ]
    }
   ],
   "source": [
    "##odd case\n",
    "input_string = str(input(\"Enter Your String : \"))\n",
    "len_str = len(input_string)\n",
    "print(\"Input string is of lenght {}\".format(len_str))\n",
    "if len_str % 2 != 0 :\n",
    "    print(\"The string is odd\")\n",
    "    print(\"Middle letter of the String is {}\".format(input_string[len_str // 2]))\n",
    "else:\n",
    "    print(\"The string is even\")\n",
    "    print(\"Middle letters of the the String are {} and {} \".format(input_string[(len_str-1) // 2],                                                     \n",
    "          input_string[(len_str) // 2 ]))\n"
   ]
  },
  {
   "cell_type": "code",
   "execution_count": 2,
   "metadata": {},
   "outputs": [
    {
     "name": "stdout",
     "output_type": "stream",
     "text": [
      "Enter Your String : Amulya\n",
      "Input string is of lenght 6\n",
      "The string is even\n",
      "Middle letters of the the String are u and l \n"
     ]
    }
   ],
   "source": [
    "##even case\n",
    "input_string = str(input(\"Enter Your String : \"))\n",
    "len_str = len(input_string)\n",
    "print(\"Input string is of lenght {}\".format(len_str))\n",
    "if len_str % 2 != 0 :\n",
    "    print(\"The string is odd\")\n",
    "    print(\"Middle letter of the String is {}\".format(input_string[len_str // 2]))\n",
    "else:\n",
    "    print(\"The string is even\")\n",
    "    print(\"Middle letters of the the String are {} and {} \".format(input_string[(len_str-1) // 2],                                                     \n",
    "          input_string[(len_str) // 2 ]))\n",
    "\n",
    "    "
   ]
  }
 ],
 "metadata": {
  "kernelspec": {
   "display_name": "Python 3",
   "language": "python",
   "name": "python3"
  },
  "language_info": {
   "codemirror_mode": {
    "name": "ipython",
    "version": 3
   },
   "file_extension": ".py",
   "mimetype": "text/x-python",
   "name": "python",
   "nbconvert_exporter": "python",
   "pygments_lexer": "ipython3",
   "version": "3.7.3"
  }
 },
 "nbformat": 4,
 "nbformat_minor": 2
}
