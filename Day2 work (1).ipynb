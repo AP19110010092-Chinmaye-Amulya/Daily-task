{
 "cells": [
  {
   "cell_type": "code",
   "execution_count": 2,
   "metadata": {},
   "outputs": [
    {
     "name": "stdout",
     "output_type": "stream",
     "text": [
      " Enter age: 23\n",
      " Eligible for vote \n"
     ]
    }
   ],
   "source": [
    "##program to check wheather the user eligible for vote or not\n",
    "\n",
    "i = int(input(\" Enter age: \"))\n",
    "\n",
    "if i >= 18 :\n",
    "    print(\" Eligible for vote \")\n",
    "else: \n",
    "    print(\" Not eligible for vote \")\n"
   ]
  },
  {
   "cell_type": "code",
   "execution_count": 3,
   "metadata": {},
   "outputs": [
    {
     "name": "stdout",
     "output_type": "stream",
     "text": [
      " Enter number -89\n",
      " Given number is negative\n"
     ]
    }
   ],
   "source": [
    "##program to check the give number is whether positive or negative\n",
    "\n",
    "a = int(input(\" Enter number \"))\n",
    "\n",
    "if a >= 0 :\n",
    "    print(\" Given number is positive \")\n",
    "else:\n",
    "    print(\" Given number is negative\")\n"
   ]
  },
  {
   "cell_type": "code",
   "execution_count": 4,
   "metadata": {},
   "outputs": [
    {
     "name": "stdout",
     "output_type": "stream",
     "text": [
      " Enter number: 79\n",
      "given number is odd\n"
     ]
    }
   ],
   "source": [
    "##program to check the given number is even or odd if it's even check which is divisible by 4 or not\n",
    "\n",
    "a = int(input(\" Enter number: \"))\n",
    "\n",
    "if (a % 2) ==0 :\n",
    "    if (a % 4) ==0:\n",
    "        print(\"given number is even and divisible by 4 \")\n",
    "    else:\n",
    "        print(\"given number is even and not divisible by 4 \")\n",
    "else:\n",
    "    print(\"given number is odd\")\n"
   ]
  },
  {
   "cell_type": "code",
   "execution_count": 6,
   "metadata": {},
   "outputs": [
    {
     "name": "stdout",
     "output_type": "stream",
     "text": [
      "Enter Marks Obtained in 5 Subjects: 98\n",
      "97\n",
      "96\n",
      "94\n",
      "95\n",
      "99\n",
      "Student is passed in the examination in distinction level \n"
     ]
    }
   ],
   "source": [
    "###program to print student grade based on persentage like Distinction,pass or fail\n",
    "\n",
    "a = int(input(\"Enter Marks Obtained in 5 Subjects: \"))\n",
    "MAT = int(input())\n",
    "PHY = int(input())\n",
    "CHE = int(input())\n",
    "ENG = int(input())\n",
    "SANS = int(input())\n",
    "\n",
    "tot = MAT+PHY+CHE+ENG+SANS\n",
    "avg = tot/5\n",
    "\n",
    "if avg>=95 :\n",
    "    print(\"Student is passed in the examination in distinction level \")\n",
    "elif avg>=50:\n",
    "    print(\" Student is passed in the examination \")\n",
    "elif avg<=50:\n",
    "    print(\" Student is failed in the examination\")\n"
   ]
  },
  {
   "cell_type": "code",
   "execution_count": 1,
   "metadata": {},
   "outputs": [
    {
     "name": "stdout",
     "output_type": "stream",
     "text": [
      "Enter the year2016\n",
      "The given year  2016  is not a leap year\n"
     ]
    }
   ],
   "source": [
    "# program to find whether an year is a leap year or not.\n",
    "\n",
    "n= int(input(\"Enter the year\"))\n",
    "\n",
    "if n%4==0:\n",
    "       \n",
    "    if n%100==0:\n",
    "        if n%400==0:\n",
    "                print(\"The given year \",n,\" is a leap year\")\n",
    "        else:\n",
    "                print(\"The given year \",n,\" is not a leap year\")\n",
    "    else:\n",
    "        print(\"The given year \",n,\" is not a leap year\")\n",
    "        \n",
    "        \n",
    "            \n",
    "                \n",
    "        \n",
    "else:\n",
    "    print(\"The given year \",n,\" is not a leap year\")"
   ]
  },
  {
   "cell_type": "code",
   "execution_count": null,
   "metadata": {},
   "outputs": [],
   "source": []
  },
  {
   "cell_type": "code",
   "execution_count": null,
   "metadata": {},
   "outputs": [],
   "source": []
  },
  {
   "cell_type": "code",
   "execution_count": null,
   "metadata": {},
   "outputs": [],
   "source": []
  },
  {
   "cell_type": "code",
   "execution_count": null,
   "metadata": {},
   "outputs": [],
   "source": []
  }
 ],
 "metadata": {
  "kernelspec": {
   "display_name": "Python 3",
   "language": "python",
   "name": "python3"
  },
  "language_info": {
   "codemirror_mode": {
    "name": "ipython",
    "version": 3
   },
   "file_extension": ".py",
   "mimetype": "text/x-python",
   "name": "python",
   "nbconvert_exporter": "python",
   "pygments_lexer": "ipython3",
   "version": "3.7.3"
  }
 },
 "nbformat": 4,
 "nbformat_minor": 2
}
